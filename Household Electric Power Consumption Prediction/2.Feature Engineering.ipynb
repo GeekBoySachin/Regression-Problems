{
 "cells": [
  {
   "cell_type": "markdown",
   "id": "5690a45b",
   "metadata": {},
   "source": [
    "# 1.Feature Engineering"
   ]
  },
  {
   "cell_type": "code",
   "execution_count": 1,
   "id": "8365ebb1",
   "metadata": {},
   "outputs": [],
   "source": [
    "#Importing libraries\n",
    "import pandas as pd\n",
    "import numpy as np\n",
    "import matplotlib.pyplot as plt\n",
    "import seaborn as sns\n",
    "%matplotlib inline"
   ]
  },
  {
   "cell_type": "code",
   "execution_count": 2,
   "id": "ab39c067",
   "metadata": {},
   "outputs": [
    {
     "name": "stdout",
     "output_type": "stream",
     "text": [
      "MongoClient(host=['localhost:27017'], document_class=dict, tz_aware=False, connect=True)\n"
     ]
    },
    {
     "data": {
      "text/html": [
       "<div>\n",
       "<style scoped>\n",
       "    .dataframe tbody tr th:only-of-type {\n",
       "        vertical-align: middle;\n",
       "    }\n",
       "\n",
       "    .dataframe tbody tr th {\n",
       "        vertical-align: top;\n",
       "    }\n",
       "\n",
       "    .dataframe thead th {\n",
       "        text-align: right;\n",
       "    }\n",
       "</style>\n",
       "<table border=\"1\" class=\"dataframe\">\n",
       "  <thead>\n",
       "    <tr style=\"text-align: right;\">\n",
       "      <th></th>\n",
       "      <th>Date</th>\n",
       "      <th>Time</th>\n",
       "      <th>Global_active_power</th>\n",
       "      <th>Global_reactive_power</th>\n",
       "      <th>Voltage</th>\n",
       "      <th>Global_intensity</th>\n",
       "      <th>Sub_metering_1</th>\n",
       "      <th>Sub_metering_2</th>\n",
       "      <th>Sub_metering_3</th>\n",
       "    </tr>\n",
       "  </thead>\n",
       "  <tbody>\n",
       "    <tr>\n",
       "      <th>0</th>\n",
       "      <td>19/7/2007</td>\n",
       "      <td>09:28:00</td>\n",
       "      <td>0.210</td>\n",
       "      <td>0.084</td>\n",
       "      <td>228.560</td>\n",
       "      <td>1.000</td>\n",
       "      <td>0.000</td>\n",
       "      <td>0.000</td>\n",
       "      <td>0.0</td>\n",
       "    </tr>\n",
       "    <tr>\n",
       "      <th>1</th>\n",
       "      <td>15/12/2007</td>\n",
       "      <td>07:54:00</td>\n",
       "      <td>3.122</td>\n",
       "      <td>0.132</td>\n",
       "      <td>242.140</td>\n",
       "      <td>12.800</td>\n",
       "      <td>0.000</td>\n",
       "      <td>1.000</td>\n",
       "      <td>18.0</td>\n",
       "    </tr>\n",
       "    <tr>\n",
       "      <th>2</th>\n",
       "      <td>1/5/2009</td>\n",
       "      <td>05:22:00</td>\n",
       "      <td>1.830</td>\n",
       "      <td>0.458</td>\n",
       "      <td>242.120</td>\n",
       "      <td>7.800</td>\n",
       "      <td>0.000</td>\n",
       "      <td>1.000</td>\n",
       "      <td>18.0</td>\n",
       "    </tr>\n",
       "    <tr>\n",
       "      <th>3</th>\n",
       "      <td>2/5/2010</td>\n",
       "      <td>16:02:00</td>\n",
       "      <td>1.754</td>\n",
       "      <td>0.188</td>\n",
       "      <td>239.060</td>\n",
       "      <td>7.400</td>\n",
       "      <td>0.000</td>\n",
       "      <td>0.000</td>\n",
       "      <td>18.0</td>\n",
       "    </tr>\n",
       "    <tr>\n",
       "      <th>4</th>\n",
       "      <td>3/7/2010</td>\n",
       "      <td>23:52:00</td>\n",
       "      <td>1.272</td>\n",
       "      <td>0.250</td>\n",
       "      <td>241.000</td>\n",
       "      <td>5.400</td>\n",
       "      <td>0.000</td>\n",
       "      <td>0.000</td>\n",
       "      <td>1.0</td>\n",
       "    </tr>\n",
       "    <tr>\n",
       "      <th>...</th>\n",
       "      <td>...</td>\n",
       "      <td>...</td>\n",
       "      <td>...</td>\n",
       "      <td>...</td>\n",
       "      <td>...</td>\n",
       "      <td>...</td>\n",
       "      <td>...</td>\n",
       "      <td>...</td>\n",
       "      <td>...</td>\n",
       "    </tr>\n",
       "    <tr>\n",
       "      <th>14995</th>\n",
       "      <td>19/8/2010</td>\n",
       "      <td>06:49:00</td>\n",
       "      <td>?</td>\n",
       "      <td>?</td>\n",
       "      <td>?</td>\n",
       "      <td>?</td>\n",
       "      <td>?</td>\n",
       "      <td>?</td>\n",
       "      <td>NaN</td>\n",
       "    </tr>\n",
       "    <tr>\n",
       "      <th>14996</th>\n",
       "      <td>8/1/2009</td>\n",
       "      <td>21:22:00</td>\n",
       "      <td>2.266</td>\n",
       "      <td>0.066</td>\n",
       "      <td>241.810</td>\n",
       "      <td>9.400</td>\n",
       "      <td>0.000</td>\n",
       "      <td>0.000</td>\n",
       "      <td>18.0</td>\n",
       "    </tr>\n",
       "    <tr>\n",
       "      <th>14997</th>\n",
       "      <td>3/9/2009</td>\n",
       "      <td>20:47:00</td>\n",
       "      <td>0.524</td>\n",
       "      <td>0.062</td>\n",
       "      <td>238.840</td>\n",
       "      <td>2.200</td>\n",
       "      <td>0.000</td>\n",
       "      <td>0.000</td>\n",
       "      <td>0.0</td>\n",
       "    </tr>\n",
       "    <tr>\n",
       "      <th>14998</th>\n",
       "      <td>2/9/2010</td>\n",
       "      <td>12:33:00</td>\n",
       "      <td>1.378</td>\n",
       "      <td>0.150</td>\n",
       "      <td>237.610</td>\n",
       "      <td>5.800</td>\n",
       "      <td>0.000</td>\n",
       "      <td>1.000</td>\n",
       "      <td>18.0</td>\n",
       "    </tr>\n",
       "    <tr>\n",
       "      <th>14999</th>\n",
       "      <td>18/4/2007</td>\n",
       "      <td>22:38:00</td>\n",
       "      <td>2.006</td>\n",
       "      <td>0.098</td>\n",
       "      <td>240.070</td>\n",
       "      <td>8.200</td>\n",
       "      <td>0.000</td>\n",
       "      <td>0.000</td>\n",
       "      <td>0.0</td>\n",
       "    </tr>\n",
       "  </tbody>\n",
       "</table>\n",
       "<p>15000 rows × 9 columns</p>\n",
       "</div>"
      ],
      "text/plain": [
       "             Date      Time Global_active_power Global_reactive_power  \\\n",
       "0       19/7/2007  09:28:00               0.210                 0.084   \n",
       "1      15/12/2007  07:54:00               3.122                 0.132   \n",
       "2        1/5/2009  05:22:00               1.830                 0.458   \n",
       "3        2/5/2010  16:02:00               1.754                 0.188   \n",
       "4        3/7/2010  23:52:00               1.272                 0.250   \n",
       "...           ...       ...                 ...                   ...   \n",
       "14995   19/8/2010  06:49:00                   ?                     ?   \n",
       "14996    8/1/2009  21:22:00               2.266                 0.066   \n",
       "14997    3/9/2009  20:47:00               0.524                 0.062   \n",
       "14998    2/9/2010  12:33:00               1.378                 0.150   \n",
       "14999   18/4/2007  22:38:00               2.006                 0.098   \n",
       "\n",
       "       Voltage Global_intensity Sub_metering_1 Sub_metering_2  Sub_metering_3  \n",
       "0      228.560            1.000          0.000          0.000             0.0  \n",
       "1      242.140           12.800          0.000          1.000            18.0  \n",
       "2      242.120            7.800          0.000          1.000            18.0  \n",
       "3      239.060            7.400          0.000          0.000            18.0  \n",
       "4      241.000            5.400          0.000          0.000             1.0  \n",
       "...        ...              ...            ...            ...             ...  \n",
       "14995        ?                ?              ?              ?             NaN  \n",
       "14996  241.810            9.400          0.000          0.000            18.0  \n",
       "14997  238.840            2.200          0.000          0.000             0.0  \n",
       "14998  237.610            5.800          0.000          1.000            18.0  \n",
       "14999  240.070            8.200          0.000          0.000             0.0  \n",
       "\n",
       "[15000 rows x 9 columns]"
      ]
     },
     "execution_count": 2,
     "metadata": {},
     "output_type": "execute_result"
    }
   ],
   "source": [
    "## data ingestion\n",
    "#import libraries and creating connection with Mongodb\n",
    "import pymongo\n",
    "import json\n",
    "client = pymongo.MongoClient(\"localhost\")\n",
    "print(client)\n",
    "#defining database and collection\n",
    "db = client[\"Regression\"]\n",
    "collection = db[\"household_power_consumption\"]\n",
    "#Fetching data from database\n",
    "data = list(collection.find({},{'_id':0}))\n",
    "df = pd.DataFrame(data)\n",
    "df"
   ]
  },
  {
   "cell_type": "code",
   "execution_count": 3,
   "id": "3fe8af01",
   "metadata": {},
   "outputs": [
    {
     "data": {
      "text/plain": [
       "(15000, 9)"
      ]
     },
     "execution_count": 3,
     "metadata": {},
     "output_type": "execute_result"
    }
   ],
   "source": [
    "df.shape"
   ]
  },
  {
   "cell_type": "code",
   "execution_count": 4,
   "id": "2ee43846",
   "metadata": {},
   "outputs": [
    {
     "data": {
      "text/plain": [
       "Date                      object\n",
       "Time                      object\n",
       "Global_active_power       object\n",
       "Global_reactive_power     object\n",
       "Voltage                   object\n",
       "Global_intensity          object\n",
       "Sub_metering_1            object\n",
       "Sub_metering_2            object\n",
       "Sub_metering_3           float64\n",
       "dtype: object"
      ]
     },
     "execution_count": 4,
     "metadata": {},
     "output_type": "execute_result"
    }
   ],
   "source": [
    "df.dtypes"
   ]
  },
  {
   "cell_type": "markdown",
   "id": "52305d48",
   "metadata": {},
   "source": [
    "### Filling null values"
   ]
  },
  {
   "cell_type": "code",
   "execution_count": 5,
   "id": "ad8fccd2",
   "metadata": {},
   "outputs": [
    {
     "data": {
      "text/plain": [
       "Date                       0\n",
       "Time                       0\n",
       "Global_active_power        0\n",
       "Global_reactive_power      0\n",
       "Voltage                    0\n",
       "Global_intensity           0\n",
       "Sub_metering_1             0\n",
       "Sub_metering_2             0\n",
       "Sub_metering_3           187\n",
       "dtype: int64"
      ]
     },
     "execution_count": 5,
     "metadata": {},
     "output_type": "execute_result"
    }
   ],
   "source": [
    "df.isnull().sum()"
   ]
  },
  {
   "cell_type": "markdown",
   "id": "5736efea",
   "metadata": {},
   "source": [
    "We have null values in Sub_metering_3 feature which is of float64 type we can fill zero if there is no any consumption"
   ]
  },
  {
   "cell_type": "code",
   "execution_count": 6,
   "id": "a71a1457",
   "metadata": {},
   "outputs": [],
   "source": [
    "df[\"Sub_metering_3\"].fillna(0,inplace=True)"
   ]
  },
  {
   "cell_type": "code",
   "execution_count": 7,
   "id": "7adbbfc8",
   "metadata": {},
   "outputs": [
    {
     "data": {
      "text/plain": [
       "Date                     0\n",
       "Time                     0\n",
       "Global_active_power      0\n",
       "Global_reactive_power    0\n",
       "Voltage                  0\n",
       "Global_intensity         0\n",
       "Sub_metering_1           0\n",
       "Sub_metering_2           0\n",
       "Sub_metering_3           0\n",
       "dtype: int64"
      ]
     },
     "execution_count": 7,
     "metadata": {},
     "output_type": "execute_result"
    }
   ],
   "source": [
    "df.isnull().sum()"
   ]
  },
  {
   "cell_type": "markdown",
   "id": "57b23576",
   "metadata": {},
   "source": [
    "Now we dont have any null values"
   ]
  },
  {
   "cell_type": "markdown",
   "id": "31da71bb",
   "metadata": {},
   "source": [
    "## 1.2 Convert Data Types"
   ]
  },
  {
   "cell_type": "code",
   "execution_count": 8,
   "id": "799888ea",
   "metadata": {},
   "outputs": [
    {
     "data": {
      "text/html": [
       "<div>\n",
       "<style scoped>\n",
       "    .dataframe tbody tr th:only-of-type {\n",
       "        vertical-align: middle;\n",
       "    }\n",
       "\n",
       "    .dataframe tbody tr th {\n",
       "        vertical-align: top;\n",
       "    }\n",
       "\n",
       "    .dataframe thead th {\n",
       "        text-align: right;\n",
       "    }\n",
       "</style>\n",
       "<table border=\"1\" class=\"dataframe\">\n",
       "  <thead>\n",
       "    <tr style=\"text-align: right;\">\n",
       "      <th></th>\n",
       "      <th>Date</th>\n",
       "      <th>Time</th>\n",
       "      <th>Global_active_power</th>\n",
       "      <th>Global_reactive_power</th>\n",
       "      <th>Voltage</th>\n",
       "      <th>Global_intensity</th>\n",
       "      <th>Sub_metering_1</th>\n",
       "      <th>Sub_metering_2</th>\n",
       "      <th>Sub_metering_3</th>\n",
       "    </tr>\n",
       "  </thead>\n",
       "  <tbody>\n",
       "    <tr>\n",
       "      <th>8887</th>\n",
       "      <td>23/8/2009</td>\n",
       "      <td>10:09:00</td>\n",
       "      <td>0.232</td>\n",
       "      <td>0.128</td>\n",
       "      <td>240.400</td>\n",
       "      <td>1.000</td>\n",
       "      <td>0.000</td>\n",
       "      <td>0.000</td>\n",
       "      <td>0.0</td>\n",
       "    </tr>\n",
       "  </tbody>\n",
       "</table>\n",
       "</div>"
      ],
      "text/plain": [
       "           Date      Time Global_active_power Global_reactive_power  Voltage  \\\n",
       "8887  23/8/2009  10:09:00               0.232                 0.128  240.400   \n",
       "\n",
       "     Global_intensity Sub_metering_1 Sub_metering_2  Sub_metering_3  \n",
       "8887            1.000          0.000          0.000             0.0  "
      ]
     },
     "execution_count": 8,
     "metadata": {},
     "output_type": "execute_result"
    }
   ],
   "source": [
    "df.sample()"
   ]
  },
  {
   "cell_type": "markdown",
   "id": "5068b5fc",
   "metadata": {},
   "source": [
    "All columns contains floating numerical values except date"
   ]
  },
  {
   "cell_type": "code",
   "execution_count": 9,
   "id": "1128d140",
   "metadata": {},
   "outputs": [
    {
     "data": {
      "text/plain": [
       "Index(['Date', 'Time', 'Global_active_power', 'Global_reactive_power',\n",
       "       'Voltage', 'Global_intensity', 'Sub_metering_1', 'Sub_metering_2',\n",
       "       'Sub_metering_3'],\n",
       "      dtype='object')"
      ]
     },
     "execution_count": 9,
     "metadata": {},
     "output_type": "execute_result"
    }
   ],
   "source": [
    "cols = df.columns\n",
    "cols"
   ]
  },
  {
   "cell_type": "code",
   "execution_count": 10,
   "id": "45f0c504",
   "metadata": {},
   "outputs": [],
   "source": [
    "#Converting data types of columns\n",
    "for col in cols[2:]:\n",
    "    df[col] = df[col].replace(\"?\",\"0\")\n",
    "    df[col] = df[col].astype(\"float64\")"
   ]
  },
  {
   "cell_type": "code",
   "execution_count": 11,
   "id": "62bc6dcc",
   "metadata": {},
   "outputs": [
    {
     "data": {
      "text/plain": [
       "Date                      object\n",
       "Time                      object\n",
       "Global_active_power      float64\n",
       "Global_reactive_power    float64\n",
       "Voltage                  float64\n",
       "Global_intensity         float64\n",
       "Sub_metering_1           float64\n",
       "Sub_metering_2           float64\n",
       "Sub_metering_3           float64\n",
       "dtype: object"
      ]
     },
     "execution_count": 11,
     "metadata": {},
     "output_type": "execute_result"
    }
   ],
   "source": [
    "df.dtypes"
   ]
  },
  {
   "cell_type": "code",
   "execution_count": 12,
   "id": "228e068b",
   "metadata": {},
   "outputs": [
    {
     "data": {
      "text/html": [
       "<div>\n",
       "<style scoped>\n",
       "    .dataframe tbody tr th:only-of-type {\n",
       "        vertical-align: middle;\n",
       "    }\n",
       "\n",
       "    .dataframe tbody tr th {\n",
       "        vertical-align: top;\n",
       "    }\n",
       "\n",
       "    .dataframe thead th {\n",
       "        text-align: right;\n",
       "    }\n",
       "</style>\n",
       "<table border=\"1\" class=\"dataframe\">\n",
       "  <thead>\n",
       "    <tr style=\"text-align: right;\">\n",
       "      <th></th>\n",
       "      <th>Date</th>\n",
       "      <th>Time</th>\n",
       "      <th>Global_active_power</th>\n",
       "      <th>Global_reactive_power</th>\n",
       "      <th>Voltage</th>\n",
       "      <th>Global_intensity</th>\n",
       "      <th>Sub_metering_1</th>\n",
       "      <th>Sub_metering_2</th>\n",
       "      <th>Sub_metering_3</th>\n",
       "    </tr>\n",
       "  </thead>\n",
       "  <tbody>\n",
       "    <tr>\n",
       "      <th>0</th>\n",
       "      <td>19/7/2007</td>\n",
       "      <td>09:28:00</td>\n",
       "      <td>0.210</td>\n",
       "      <td>0.084</td>\n",
       "      <td>228.56</td>\n",
       "      <td>1.0</td>\n",
       "      <td>0.0</td>\n",
       "      <td>0.0</td>\n",
       "      <td>0.0</td>\n",
       "    </tr>\n",
       "    <tr>\n",
       "      <th>1</th>\n",
       "      <td>15/12/2007</td>\n",
       "      <td>07:54:00</td>\n",
       "      <td>3.122</td>\n",
       "      <td>0.132</td>\n",
       "      <td>242.14</td>\n",
       "      <td>12.8</td>\n",
       "      <td>0.0</td>\n",
       "      <td>1.0</td>\n",
       "      <td>18.0</td>\n",
       "    </tr>\n",
       "    <tr>\n",
       "      <th>2</th>\n",
       "      <td>1/5/2009</td>\n",
       "      <td>05:22:00</td>\n",
       "      <td>1.830</td>\n",
       "      <td>0.458</td>\n",
       "      <td>242.12</td>\n",
       "      <td>7.8</td>\n",
       "      <td>0.0</td>\n",
       "      <td>1.0</td>\n",
       "      <td>18.0</td>\n",
       "    </tr>\n",
       "    <tr>\n",
       "      <th>3</th>\n",
       "      <td>2/5/2010</td>\n",
       "      <td>16:02:00</td>\n",
       "      <td>1.754</td>\n",
       "      <td>0.188</td>\n",
       "      <td>239.06</td>\n",
       "      <td>7.4</td>\n",
       "      <td>0.0</td>\n",
       "      <td>0.0</td>\n",
       "      <td>18.0</td>\n",
       "    </tr>\n",
       "    <tr>\n",
       "      <th>4</th>\n",
       "      <td>3/7/2010</td>\n",
       "      <td>23:52:00</td>\n",
       "      <td>1.272</td>\n",
       "      <td>0.250</td>\n",
       "      <td>241.00</td>\n",
       "      <td>5.4</td>\n",
       "      <td>0.0</td>\n",
       "      <td>0.0</td>\n",
       "      <td>1.0</td>\n",
       "    </tr>\n",
       "  </tbody>\n",
       "</table>\n",
       "</div>"
      ],
      "text/plain": [
       "         Date      Time  Global_active_power  Global_reactive_power  Voltage  \\\n",
       "0   19/7/2007  09:28:00                0.210                  0.084   228.56   \n",
       "1  15/12/2007  07:54:00                3.122                  0.132   242.14   \n",
       "2    1/5/2009  05:22:00                1.830                  0.458   242.12   \n",
       "3    2/5/2010  16:02:00                1.754                  0.188   239.06   \n",
       "4    3/7/2010  23:52:00                1.272                  0.250   241.00   \n",
       "\n",
       "   Global_intensity  Sub_metering_1  Sub_metering_2  Sub_metering_3  \n",
       "0               1.0             0.0             0.0             0.0  \n",
       "1              12.8             0.0             1.0            18.0  \n",
       "2               7.8             0.0             1.0            18.0  \n",
       "3               7.4             0.0             0.0            18.0  \n",
       "4               5.4             0.0             0.0             1.0  "
      ]
     },
     "execution_count": 12,
     "metadata": {},
     "output_type": "execute_result"
    }
   ],
   "source": [
    "df.head()"
   ]
  },
  {
   "cell_type": "code",
   "execution_count": 13,
   "id": "b4fe3df2",
   "metadata": {},
   "outputs": [],
   "source": [
    "##Creating month feature as it can effect the consumtion rate of electricity\n",
    "df[\"month\"] = pd.to_datetime(df[\"Date\"],infer_datetime_format=True).dt.month"
   ]
  },
  {
   "cell_type": "code",
   "execution_count": 14,
   "id": "8422dc83",
   "metadata": {},
   "outputs": [],
   "source": [
    "### Creating total metering feature\n",
    "df[\"total_metering\"] = df[\"Sub_metering_1\"] + df[\"Sub_metering_2\"] + df[\"Sub_metering_3\"]"
   ]
  },
  {
   "cell_type": "code",
   "execution_count": 15,
   "id": "271a096a",
   "metadata": {},
   "outputs": [
    {
     "data": {
      "text/html": [
       "<div>\n",
       "<style scoped>\n",
       "    .dataframe tbody tr th:only-of-type {\n",
       "        vertical-align: middle;\n",
       "    }\n",
       "\n",
       "    .dataframe tbody tr th {\n",
       "        vertical-align: top;\n",
       "    }\n",
       "\n",
       "    .dataframe thead th {\n",
       "        text-align: right;\n",
       "    }\n",
       "</style>\n",
       "<table border=\"1\" class=\"dataframe\">\n",
       "  <thead>\n",
       "    <tr style=\"text-align: right;\">\n",
       "      <th></th>\n",
       "      <th>Date</th>\n",
       "      <th>Time</th>\n",
       "      <th>Global_active_power</th>\n",
       "      <th>Global_reactive_power</th>\n",
       "      <th>Voltage</th>\n",
       "      <th>Global_intensity</th>\n",
       "      <th>Sub_metering_1</th>\n",
       "      <th>Sub_metering_2</th>\n",
       "      <th>Sub_metering_3</th>\n",
       "      <th>month</th>\n",
       "      <th>total_metering</th>\n",
       "    </tr>\n",
       "  </thead>\n",
       "  <tbody>\n",
       "    <tr>\n",
       "      <th>0</th>\n",
       "      <td>19/7/2007</td>\n",
       "      <td>09:28:00</td>\n",
       "      <td>0.210</td>\n",
       "      <td>0.084</td>\n",
       "      <td>228.56</td>\n",
       "      <td>1.0</td>\n",
       "      <td>0.0</td>\n",
       "      <td>0.0</td>\n",
       "      <td>0.0</td>\n",
       "      <td>7</td>\n",
       "      <td>0.0</td>\n",
       "    </tr>\n",
       "    <tr>\n",
       "      <th>1</th>\n",
       "      <td>15/12/2007</td>\n",
       "      <td>07:54:00</td>\n",
       "      <td>3.122</td>\n",
       "      <td>0.132</td>\n",
       "      <td>242.14</td>\n",
       "      <td>12.8</td>\n",
       "      <td>0.0</td>\n",
       "      <td>1.0</td>\n",
       "      <td>18.0</td>\n",
       "      <td>12</td>\n",
       "      <td>19.0</td>\n",
       "    </tr>\n",
       "    <tr>\n",
       "      <th>2</th>\n",
       "      <td>1/5/2009</td>\n",
       "      <td>05:22:00</td>\n",
       "      <td>1.830</td>\n",
       "      <td>0.458</td>\n",
       "      <td>242.12</td>\n",
       "      <td>7.8</td>\n",
       "      <td>0.0</td>\n",
       "      <td>1.0</td>\n",
       "      <td>18.0</td>\n",
       "      <td>5</td>\n",
       "      <td>19.0</td>\n",
       "    </tr>\n",
       "    <tr>\n",
       "      <th>3</th>\n",
       "      <td>2/5/2010</td>\n",
       "      <td>16:02:00</td>\n",
       "      <td>1.754</td>\n",
       "      <td>0.188</td>\n",
       "      <td>239.06</td>\n",
       "      <td>7.4</td>\n",
       "      <td>0.0</td>\n",
       "      <td>0.0</td>\n",
       "      <td>18.0</td>\n",
       "      <td>5</td>\n",
       "      <td>18.0</td>\n",
       "    </tr>\n",
       "    <tr>\n",
       "      <th>4</th>\n",
       "      <td>3/7/2010</td>\n",
       "      <td>23:52:00</td>\n",
       "      <td>1.272</td>\n",
       "      <td>0.250</td>\n",
       "      <td>241.00</td>\n",
       "      <td>5.4</td>\n",
       "      <td>0.0</td>\n",
       "      <td>0.0</td>\n",
       "      <td>1.0</td>\n",
       "      <td>7</td>\n",
       "      <td>1.0</td>\n",
       "    </tr>\n",
       "  </tbody>\n",
       "</table>\n",
       "</div>"
      ],
      "text/plain": [
       "         Date      Time  Global_active_power  Global_reactive_power  Voltage  \\\n",
       "0   19/7/2007  09:28:00                0.210                  0.084   228.56   \n",
       "1  15/12/2007  07:54:00                3.122                  0.132   242.14   \n",
       "2    1/5/2009  05:22:00                1.830                  0.458   242.12   \n",
       "3    2/5/2010  16:02:00                1.754                  0.188   239.06   \n",
       "4    3/7/2010  23:52:00                1.272                  0.250   241.00   \n",
       "\n",
       "   Global_intensity  Sub_metering_1  Sub_metering_2  Sub_metering_3  month  \\\n",
       "0               1.0             0.0             0.0             0.0      7   \n",
       "1              12.8             0.0             1.0            18.0     12   \n",
       "2               7.8             0.0             1.0            18.0      5   \n",
       "3               7.4             0.0             0.0            18.0      5   \n",
       "4               5.4             0.0             0.0             1.0      7   \n",
       "\n",
       "   total_metering  \n",
       "0             0.0  \n",
       "1            19.0  \n",
       "2            19.0  \n",
       "3            18.0  \n",
       "4             1.0  "
      ]
     },
     "execution_count": 15,
     "metadata": {},
     "output_type": "execute_result"
    }
   ],
   "source": [
    "df.head()"
   ]
  },
  {
   "cell_type": "code",
   "execution_count": 16,
   "id": "0e9f58c9",
   "metadata": {},
   "outputs": [
    {
     "data": {
      "text/plain": [
       "Date                      object\n",
       "Time                      object\n",
       "Global_active_power      float64\n",
       "Global_reactive_power    float64\n",
       "Voltage                  float64\n",
       "Global_intensity         float64\n",
       "Sub_metering_1           float64\n",
       "Sub_metering_2           float64\n",
       "Sub_metering_3           float64\n",
       "month                      int64\n",
       "total_metering           float64\n",
       "dtype: object"
      ]
     },
     "execution_count": 16,
     "metadata": {},
     "output_type": "execute_result"
    }
   ],
   "source": [
    "df.dtypes"
   ]
  },
  {
   "cell_type": "markdown",
   "id": "e03371e3",
   "metadata": {},
   "source": [
    "All features are converted into respective types"
   ]
  },
  {
   "cell_type": "markdown",
   "id": "aab7cf79",
   "metadata": {},
   "source": [
    "## Database operations"
   ]
  },
  {
   "cell_type": "markdown",
   "id": "8b40136b",
   "metadata": {},
   "source": [
    "### Restoring data into database"
   ]
  },
  {
   "cell_type": "code",
   "execution_count": 17,
   "id": "caac27ed",
   "metadata": {},
   "outputs": [
    {
     "name": "stdout",
     "output_type": "stream",
     "text": [
      "<pymongo.results.InsertManyResult object at 0x00000173007C4A60>\n"
     ]
    }
   ],
   "source": [
    "## Deleting old data\n",
    "db = client[\"Regression\"]\n",
    "if \"household_power_consumption\" in db.list_collection_names():\n",
    "    db.drop_collection(\"household_power_consumption\")\n",
    "#defining collection\n",
    "collection = db[\"household_power_consumption\"]\n",
    "#Storing data into database\n",
    "res = collection.insert_many(json.loads(df.to_json(orient=\"records\")))\n",
    "print(res)"
   ]
  },
  {
   "cell_type": "code",
   "execution_count": null,
   "id": "fb81ec65",
   "metadata": {},
   "outputs": [],
   "source": []
  }
 ],
 "metadata": {
  "kernelspec": {
   "display_name": "Python 3 (ipykernel)",
   "language": "python",
   "name": "python3"
  },
  "language_info": {
   "codemirror_mode": {
    "name": "ipython",
    "version": 3
   },
   "file_extension": ".py",
   "mimetype": "text/x-python",
   "name": "python",
   "nbconvert_exporter": "python",
   "pygments_lexer": "ipython3",
   "version": "3.9.13"
  }
 },
 "nbformat": 4,
 "nbformat_minor": 5
}
