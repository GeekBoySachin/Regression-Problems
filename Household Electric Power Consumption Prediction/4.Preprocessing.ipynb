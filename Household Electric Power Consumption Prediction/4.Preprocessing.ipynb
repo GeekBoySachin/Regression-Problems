{
 "cells": [
  {
   "cell_type": "markdown",
   "id": "73aa07ee",
   "metadata": {},
   "source": [
    "# Preprocessing of data"
   ]
  },
  {
   "cell_type": "code",
   "execution_count": 1,
   "id": "7e424a76",
   "metadata": {},
   "outputs": [],
   "source": [
    "#Importing libraries\n",
    "import pandas as pd\n",
    "import numpy as np\n",
    "import matplotlib.pyplot as plt\n",
    "import seaborn as sns\n",
    "%matplotlib inline"
   ]
  },
  {
   "cell_type": "code",
   "execution_count": 2,
   "id": "dabe4506",
   "metadata": {},
   "outputs": [
    {
     "name": "stdout",
     "output_type": "stream",
     "text": [
      "MongoClient(host=['localhost:27017'], document_class=dict, tz_aware=False, connect=True)\n"
     ]
    },
    {
     "data": {
      "text/html": [
       "<div>\n",
       "<style scoped>\n",
       "    .dataframe tbody tr th:only-of-type {\n",
       "        vertical-align: middle;\n",
       "    }\n",
       "\n",
       "    .dataframe tbody tr th {\n",
       "        vertical-align: top;\n",
       "    }\n",
       "\n",
       "    .dataframe thead th {\n",
       "        text-align: right;\n",
       "    }\n",
       "</style>\n",
       "<table border=\"1\" class=\"dataframe\">\n",
       "  <thead>\n",
       "    <tr style=\"text-align: right;\">\n",
       "      <th></th>\n",
       "      <th>Global_active_power</th>\n",
       "      <th>Global_reactive_power</th>\n",
       "      <th>Voltage</th>\n",
       "      <th>Global_intensity</th>\n",
       "      <th>month</th>\n",
       "      <th>total_metering</th>\n",
       "    </tr>\n",
       "  </thead>\n",
       "  <tbody>\n",
       "    <tr>\n",
       "      <th>0</th>\n",
       "      <td>0.210</td>\n",
       "      <td>0.084</td>\n",
       "      <td>228.56</td>\n",
       "      <td>1.0</td>\n",
       "      <td>7</td>\n",
       "      <td>0.0</td>\n",
       "    </tr>\n",
       "    <tr>\n",
       "      <th>1</th>\n",
       "      <td>3.122</td>\n",
       "      <td>0.132</td>\n",
       "      <td>242.14</td>\n",
       "      <td>12.8</td>\n",
       "      <td>12</td>\n",
       "      <td>19.0</td>\n",
       "    </tr>\n",
       "    <tr>\n",
       "      <th>2</th>\n",
       "      <td>1.830</td>\n",
       "      <td>0.458</td>\n",
       "      <td>242.12</td>\n",
       "      <td>7.8</td>\n",
       "      <td>5</td>\n",
       "      <td>19.0</td>\n",
       "    </tr>\n",
       "    <tr>\n",
       "      <th>3</th>\n",
       "      <td>1.754</td>\n",
       "      <td>0.188</td>\n",
       "      <td>239.06</td>\n",
       "      <td>7.4</td>\n",
       "      <td>5</td>\n",
       "      <td>18.0</td>\n",
       "    </tr>\n",
       "    <tr>\n",
       "      <th>4</th>\n",
       "      <td>1.272</td>\n",
       "      <td>0.250</td>\n",
       "      <td>241.00</td>\n",
       "      <td>5.4</td>\n",
       "      <td>7</td>\n",
       "      <td>1.0</td>\n",
       "    </tr>\n",
       "    <tr>\n",
       "      <th>...</th>\n",
       "      <td>...</td>\n",
       "      <td>...</td>\n",
       "      <td>...</td>\n",
       "      <td>...</td>\n",
       "      <td>...</td>\n",
       "      <td>...</td>\n",
       "    </tr>\n",
       "    <tr>\n",
       "      <th>14995</th>\n",
       "      <td>0.000</td>\n",
       "      <td>0.000</td>\n",
       "      <td>0.00</td>\n",
       "      <td>0.0</td>\n",
       "      <td>8</td>\n",
       "      <td>0.0</td>\n",
       "    </tr>\n",
       "    <tr>\n",
       "      <th>14996</th>\n",
       "      <td>2.266</td>\n",
       "      <td>0.066</td>\n",
       "      <td>241.81</td>\n",
       "      <td>9.4</td>\n",
       "      <td>1</td>\n",
       "      <td>18.0</td>\n",
       "    </tr>\n",
       "    <tr>\n",
       "      <th>14997</th>\n",
       "      <td>0.524</td>\n",
       "      <td>0.062</td>\n",
       "      <td>238.84</td>\n",
       "      <td>2.2</td>\n",
       "      <td>9</td>\n",
       "      <td>0.0</td>\n",
       "    </tr>\n",
       "    <tr>\n",
       "      <th>14998</th>\n",
       "      <td>1.378</td>\n",
       "      <td>0.150</td>\n",
       "      <td>237.61</td>\n",
       "      <td>5.8</td>\n",
       "      <td>9</td>\n",
       "      <td>19.0</td>\n",
       "    </tr>\n",
       "    <tr>\n",
       "      <th>14999</th>\n",
       "      <td>2.006</td>\n",
       "      <td>0.098</td>\n",
       "      <td>240.07</td>\n",
       "      <td>8.2</td>\n",
       "      <td>4</td>\n",
       "      <td>0.0</td>\n",
       "    </tr>\n",
       "  </tbody>\n",
       "</table>\n",
       "<p>15000 rows × 6 columns</p>\n",
       "</div>"
      ],
      "text/plain": [
       "       Global_active_power  Global_reactive_power  Voltage  Global_intensity  \\\n",
       "0                    0.210                  0.084   228.56               1.0   \n",
       "1                    3.122                  0.132   242.14              12.8   \n",
       "2                    1.830                  0.458   242.12               7.8   \n",
       "3                    1.754                  0.188   239.06               7.4   \n",
       "4                    1.272                  0.250   241.00               5.4   \n",
       "...                    ...                    ...      ...               ...   \n",
       "14995                0.000                  0.000     0.00               0.0   \n",
       "14996                2.266                  0.066   241.81               9.4   \n",
       "14997                0.524                  0.062   238.84               2.2   \n",
       "14998                1.378                  0.150   237.61               5.8   \n",
       "14999                2.006                  0.098   240.07               8.2   \n",
       "\n",
       "       month  total_metering  \n",
       "0          7             0.0  \n",
       "1         12            19.0  \n",
       "2          5            19.0  \n",
       "3          5            18.0  \n",
       "4          7             1.0  \n",
       "...      ...             ...  \n",
       "14995      8             0.0  \n",
       "14996      1            18.0  \n",
       "14997      9             0.0  \n",
       "14998      9            19.0  \n",
       "14999      4             0.0  \n",
       "\n",
       "[15000 rows x 6 columns]"
      ]
     },
     "execution_count": 2,
     "metadata": {},
     "output_type": "execute_result"
    }
   ],
   "source": [
    "## data ingestion\n",
    "#import libraries and creating connection with Mongodb\n",
    "import pymongo\n",
    "import json\n",
    "client = pymongo.MongoClient(\"localhost\")\n",
    "print(client)\n",
    "#defining database and collection\n",
    "db = client[\"Regression\"]\n",
    "collection = db[\"household_power_consumption\"]\n",
    "#Fetching data from database\n",
    "data = list(collection.find({},{'_id':0}))\n",
    "df = pd.DataFrame(data)\n",
    "df"
   ]
  },
  {
   "cell_type": "markdown",
   "id": "cf424b94",
   "metadata": {},
   "source": [
    "## Splitting of dependent and independent data"
   ]
  },
  {
   "cell_type": "code",
   "execution_count": 3,
   "id": "c4c7d006",
   "metadata": {},
   "outputs": [
    {
     "data": {
      "text/html": [
       "<div>\n",
       "<style scoped>\n",
       "    .dataframe tbody tr th:only-of-type {\n",
       "        vertical-align: middle;\n",
       "    }\n",
       "\n",
       "    .dataframe tbody tr th {\n",
       "        vertical-align: top;\n",
       "    }\n",
       "\n",
       "    .dataframe thead th {\n",
       "        text-align: right;\n",
       "    }\n",
       "</style>\n",
       "<table border=\"1\" class=\"dataframe\">\n",
       "  <thead>\n",
       "    <tr style=\"text-align: right;\">\n",
       "      <th></th>\n",
       "      <th>Global_active_power</th>\n",
       "      <th>Global_reactive_power</th>\n",
       "      <th>Voltage</th>\n",
       "      <th>Global_intensity</th>\n",
       "      <th>month</th>\n",
       "    </tr>\n",
       "  </thead>\n",
       "  <tbody>\n",
       "    <tr>\n",
       "      <th>0</th>\n",
       "      <td>0.210</td>\n",
       "      <td>0.084</td>\n",
       "      <td>228.56</td>\n",
       "      <td>1.0</td>\n",
       "      <td>7</td>\n",
       "    </tr>\n",
       "    <tr>\n",
       "      <th>1</th>\n",
       "      <td>3.122</td>\n",
       "      <td>0.132</td>\n",
       "      <td>242.14</td>\n",
       "      <td>12.8</td>\n",
       "      <td>12</td>\n",
       "    </tr>\n",
       "    <tr>\n",
       "      <th>2</th>\n",
       "      <td>1.830</td>\n",
       "      <td>0.458</td>\n",
       "      <td>242.12</td>\n",
       "      <td>7.8</td>\n",
       "      <td>5</td>\n",
       "    </tr>\n",
       "    <tr>\n",
       "      <th>3</th>\n",
       "      <td>1.754</td>\n",
       "      <td>0.188</td>\n",
       "      <td>239.06</td>\n",
       "      <td>7.4</td>\n",
       "      <td>5</td>\n",
       "    </tr>\n",
       "    <tr>\n",
       "      <th>4</th>\n",
       "      <td>1.272</td>\n",
       "      <td>0.250</td>\n",
       "      <td>241.00</td>\n",
       "      <td>5.4</td>\n",
       "      <td>7</td>\n",
       "    </tr>\n",
       "    <tr>\n",
       "      <th>...</th>\n",
       "      <td>...</td>\n",
       "      <td>...</td>\n",
       "      <td>...</td>\n",
       "      <td>...</td>\n",
       "      <td>...</td>\n",
       "    </tr>\n",
       "    <tr>\n",
       "      <th>14995</th>\n",
       "      <td>0.000</td>\n",
       "      <td>0.000</td>\n",
       "      <td>0.00</td>\n",
       "      <td>0.0</td>\n",
       "      <td>8</td>\n",
       "    </tr>\n",
       "    <tr>\n",
       "      <th>14996</th>\n",
       "      <td>2.266</td>\n",
       "      <td>0.066</td>\n",
       "      <td>241.81</td>\n",
       "      <td>9.4</td>\n",
       "      <td>1</td>\n",
       "    </tr>\n",
       "    <tr>\n",
       "      <th>14997</th>\n",
       "      <td>0.524</td>\n",
       "      <td>0.062</td>\n",
       "      <td>238.84</td>\n",
       "      <td>2.2</td>\n",
       "      <td>9</td>\n",
       "    </tr>\n",
       "    <tr>\n",
       "      <th>14998</th>\n",
       "      <td>1.378</td>\n",
       "      <td>0.150</td>\n",
       "      <td>237.61</td>\n",
       "      <td>5.8</td>\n",
       "      <td>9</td>\n",
       "    </tr>\n",
       "    <tr>\n",
       "      <th>14999</th>\n",
       "      <td>2.006</td>\n",
       "      <td>0.098</td>\n",
       "      <td>240.07</td>\n",
       "      <td>8.2</td>\n",
       "      <td>4</td>\n",
       "    </tr>\n",
       "  </tbody>\n",
       "</table>\n",
       "<p>15000 rows × 5 columns</p>\n",
       "</div>"
      ],
      "text/plain": [
       "       Global_active_power  Global_reactive_power  Voltage  Global_intensity  \\\n",
       "0                    0.210                  0.084   228.56               1.0   \n",
       "1                    3.122                  0.132   242.14              12.8   \n",
       "2                    1.830                  0.458   242.12               7.8   \n",
       "3                    1.754                  0.188   239.06               7.4   \n",
       "4                    1.272                  0.250   241.00               5.4   \n",
       "...                    ...                    ...      ...               ...   \n",
       "14995                0.000                  0.000     0.00               0.0   \n",
       "14996                2.266                  0.066   241.81               9.4   \n",
       "14997                0.524                  0.062   238.84               2.2   \n",
       "14998                1.378                  0.150   237.61               5.8   \n",
       "14999                2.006                  0.098   240.07               8.2   \n",
       "\n",
       "       month  \n",
       "0          7  \n",
       "1         12  \n",
       "2          5  \n",
       "3          5  \n",
       "4          7  \n",
       "...      ...  \n",
       "14995      8  \n",
       "14996      1  \n",
       "14997      9  \n",
       "14998      9  \n",
       "14999      4  \n",
       "\n",
       "[15000 rows x 5 columns]"
      ]
     },
     "execution_count": 3,
     "metadata": {},
     "output_type": "execute_result"
    }
   ],
   "source": [
    "## Independent features\n",
    "X = df.drop([\"total_metering\"],axis=1)\n",
    "X"
   ]
  },
  {
   "cell_type": "code",
   "execution_count": 4,
   "id": "ade644b7",
   "metadata": {},
   "outputs": [
    {
     "data": {
      "text/plain": [
       "0         0.0\n",
       "1        19.0\n",
       "2        19.0\n",
       "3        18.0\n",
       "4         1.0\n",
       "         ... \n",
       "14995     0.0\n",
       "14996    18.0\n",
       "14997     0.0\n",
       "14998    19.0\n",
       "14999     0.0\n",
       "Name: total_metering, Length: 15000, dtype: float64"
      ]
     },
     "execution_count": 4,
     "metadata": {},
     "output_type": "execute_result"
    }
   ],
   "source": [
    "## Dependent feature\n",
    "y = df[\"total_metering\"]\n",
    "y"
   ]
  },
  {
   "cell_type": "markdown",
   "id": "1865a8c6",
   "metadata": {},
   "source": [
    "## Splitting of training and testing data"
   ]
  },
  {
   "cell_type": "code",
   "execution_count": 5,
   "id": "234ce2bb",
   "metadata": {},
   "outputs": [],
   "source": [
    "from sklearn.model_selection import train_test_split\n",
    "x_train,x_test,y_train,y_test = train_test_split(X,y,random_state=48,test_size=0.33)"
   ]
  },
  {
   "cell_type": "code",
   "execution_count": 6,
   "id": "518a119e",
   "metadata": {},
   "outputs": [
    {
     "data": {
      "text/plain": [
       "(10050, 5)"
      ]
     },
     "execution_count": 6,
     "metadata": {},
     "output_type": "execute_result"
    }
   ],
   "source": [
    "x_train.shape"
   ]
  },
  {
   "cell_type": "code",
   "execution_count": 7,
   "id": "4e9ccdce",
   "metadata": {},
   "outputs": [
    {
     "data": {
      "text/plain": [
       "(10050,)"
      ]
     },
     "execution_count": 7,
     "metadata": {},
     "output_type": "execute_result"
    }
   ],
   "source": [
    "y_train.shape"
   ]
  },
  {
   "cell_type": "code",
   "execution_count": 8,
   "id": "8a884a63",
   "metadata": {},
   "outputs": [
    {
     "data": {
      "text/plain": [
       "(4950, 5)"
      ]
     },
     "execution_count": 8,
     "metadata": {},
     "output_type": "execute_result"
    }
   ],
   "source": [
    "x_test.shape"
   ]
  },
  {
   "cell_type": "code",
   "execution_count": 9,
   "id": "b22f5158",
   "metadata": {},
   "outputs": [
    {
     "data": {
      "text/plain": [
       "(4950,)"
      ]
     },
     "execution_count": 9,
     "metadata": {},
     "output_type": "execute_result"
    }
   ],
   "source": [
    "y_test.shape"
   ]
  },
  {
   "cell_type": "markdown",
   "id": "282d16a2",
   "metadata": {},
   "source": [
    "## Standization of DATA"
   ]
  },
  {
   "cell_type": "code",
   "execution_count": 10,
   "id": "ee32dc2e",
   "metadata": {},
   "outputs": [
    {
     "data": {
      "text/plain": [
       "array([[-0.84369277,  0.25634068,  0.09358889, -0.8444995 ,  0.46133945],\n",
       "       [ 0.02105447,  0.32773141,  0.05625804,  0.00681677,  0.16868898],\n",
       "       [-0.86818452, -1.08223554,  0.10920689, -0.88930562,  0.46133945],\n",
       "       ...,\n",
       "       [-0.79282529, -1.08223554,  0.10958782, -0.79969338,  0.75398993],\n",
       "       [-0.76833353, -0.15415603,  0.22081852, -0.75488726,  0.16868898],\n",
       "       [-0.85688064, -1.08223554, -0.0907798 , -0.8444995 , -0.1239615 ]])"
      ]
     },
     "execution_count": 10,
     "metadata": {},
     "output_type": "execute_result"
    }
   ],
   "source": [
    "from sklearn.preprocessing import StandardScaler\n",
    "scaler = StandardScaler()\n",
    "x_train = scaler.fit_transform(x_train)\n",
    "x_train"
   ]
  },
  {
   "cell_type": "code",
   "execution_count": 11,
   "id": "1703229f",
   "metadata": {},
   "outputs": [
    {
     "data": {
      "text/plain": [
       "array([1.07764896e+00, 1.21274627e-01, 2.37973128e+02, 4.56957214e+00,\n",
       "       6.42358209e+00])"
      ]
     },
     "execution_count": 11,
     "metadata": {},
     "output_type": "execute_result"
    }
   ],
   "source": [
    "#mean calculated for every feature\n",
    "scaler.mean_"
   ]
  },
  {
   "cell_type": "markdown",
   "id": "08471df4",
   "metadata": {},
   "source": [
    "## Pickeling of Objects"
   ]
  },
  {
   "cell_type": "code",
   "execution_count": 12,
   "id": "10adffe7",
   "metadata": {},
   "outputs": [],
   "source": [
    "import pickle as pk\n",
    "scaler_pk = pk.dumps(scaler)\n",
    "x_train_pk = pk.dumps(x_train)\n",
    "y_train_pk = pk.dumps(y_train)\n",
    "x_test_pk = pk.dumps(x_test)\n",
    "y_test_pk = pk.dumps(y_test)"
   ]
  },
  {
   "cell_type": "markdown",
   "id": "82875420",
   "metadata": {},
   "source": [
    "## DB Operations"
   ]
  },
  {
   "cell_type": "markdown",
   "id": "f656fea7",
   "metadata": {},
   "source": [
    "## Restoring data in to mongo db"
   ]
  },
  {
   "cell_type": "code",
   "execution_count": 15,
   "id": "bf387c7f",
   "metadata": {},
   "outputs": [
    {
     "data": {
      "text/plain": [
       "<pymongo.results.InsertOneResult at 0x207e5aa04f0>"
      ]
     },
     "execution_count": 15,
     "metadata": {},
     "output_type": "execute_result"
    }
   ],
   "source": [
    "## Deleting old data\n",
    "db = client[\"Regression\"]\n",
    "if \"household_power_consumption_pickles\" in db.list_collection_names():\n",
    "    db.drop_collection(\"household_power_consumption_pickles\")\n",
    "#defining collection\n",
    "collection = db[\"household_power_consumption_pickles\"]\n",
    "#Storing data into database\n",
    "collection.insert_one({\"scaler_obj\":scaler_pk})\n",
    "collection.insert_one({\"Train_data\":[x_train_pk,y_train_pk]})\n",
    "collection.insert_one({\"Test_data\":[x_test_pk,y_test_pk]})"
   ]
  },
  {
   "cell_type": "code",
   "execution_count": null,
   "id": "c7faa418",
   "metadata": {},
   "outputs": [],
   "source": []
  }
 ],
 "metadata": {
  "kernelspec": {
   "display_name": "Python 3 (ipykernel)",
   "language": "python",
   "name": "python3"
  },
  "language_info": {
   "codemirror_mode": {
    "name": "ipython",
    "version": 3
   },
   "file_extension": ".py",
   "mimetype": "text/x-python",
   "name": "python",
   "nbconvert_exporter": "python",
   "pygments_lexer": "ipython3",
   "version": "3.9.13"
  }
 },
 "nbformat": 4,
 "nbformat_minor": 5
}
