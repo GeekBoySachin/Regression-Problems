{
 "cells": [
  {
   "cell_type": "markdown",
   "id": "c612d1c9",
   "metadata": {},
   "source": [
    "# Model Training"
   ]
  },
  {
   "cell_type": "code",
   "execution_count": 1,
   "id": "22c9520e",
   "metadata": {},
   "outputs": [],
   "source": [
    "#Importing libraries\n",
    "import pandas as pd\n",
    "import numpy as np\n",
    "import matplotlib.pyplot as plt\n",
    "import seaborn as sns\n",
    "%matplotlib inline"
   ]
  },
  {
   "cell_type": "code",
   "execution_count": 2,
   "id": "3ea9ccee",
   "metadata": {},
   "outputs": [
    {
     "name": "stdout",
     "output_type": "stream",
     "text": [
      "MongoClient(host=['localhost:27017'], document_class=dict, tz_aware=False, connect=True)\n"
     ]
    }
   ],
   "source": [
    "## data ingestion\n",
    "#import libraries and creating connection with Mongodb\n",
    "import pymongo\n",
    "import json\n",
    "import pickle as pk\n",
    "\n",
    "client = pymongo.MongoClient(\"localhost\")\n",
    "print(client)\n",
    "#defining database and collection\n",
    "db = client[\"Regression\"]\n",
    "collection = db[\"household_power_consumption_pickles\"]"
   ]
  },
  {
   "cell_type": "markdown",
   "id": "d449cf65",
   "metadata": {},
   "source": [
    "### Fetching pickled data"
   ]
  },
  {
   "cell_type": "code",
   "execution_count": 3,
   "id": "8b0801f7",
   "metadata": {},
   "outputs": [],
   "source": [
    "result = tuple(collection.find({},{\"_id\":0}))"
   ]
  },
  {
   "cell_type": "markdown",
   "id": "bbc708a9",
   "metadata": {},
   "source": [
    "### Reading scaler object"
   ]
  },
  {
   "cell_type": "code",
   "execution_count": 4,
   "id": "1cf6aacd",
   "metadata": {},
   "outputs": [
    {
     "data": {
      "text/plain": [
       "StandardScaler()"
      ]
     },
     "execution_count": 4,
     "metadata": {},
     "output_type": "execute_result"
    }
   ],
   "source": [
    "scaler = pk.loads(result[0].get(\"scaler_obj\"))\n",
    "scaler"
   ]
  },
  {
   "cell_type": "markdown",
   "id": "f45fc057",
   "metadata": {},
   "source": [
    "### Reading train data"
   ]
  },
  {
   "cell_type": "code",
   "execution_count": 5,
   "id": "8d427cb1",
   "metadata": {},
   "outputs": [
    {
     "name": "stdout",
     "output_type": "stream",
     "text": [
      "(10050, 5)\n",
      "(10050,)\n"
     ]
    }
   ],
   "source": [
    "## fetching training data\n",
    "train_data = result[1].get(\"Train_data\")\n",
    "x_train = pk.loads(train_data[0])\n",
    "y_train = pk.loads(train_data[1])\n",
    "print(x_train.shape)\n",
    "print(y_train.shape)"
   ]
  },
  {
   "cell_type": "code",
   "execution_count": 6,
   "id": "c3717023",
   "metadata": {},
   "outputs": [
    {
     "data": {
      "text/plain": [
       "array([[-0.84369277,  0.25634068,  0.09358889, -0.8444995 ,  0.46133945],\n",
       "       [ 0.02105447,  0.32773141,  0.05625804,  0.00681677,  0.16868898],\n",
       "       [-0.86818452, -1.08223554,  0.10920689, -0.88930562,  0.46133945],\n",
       "       ...,\n",
       "       [-0.79282529, -1.08223554,  0.10958782, -0.79969338,  0.75398993],\n",
       "       [-0.76833353, -0.15415603,  0.22081852, -0.75488726,  0.16868898],\n",
       "       [-0.85688064, -1.08223554, -0.0907798 , -0.8444995 , -0.1239615 ]])"
      ]
     },
     "execution_count": 6,
     "metadata": {},
     "output_type": "execute_result"
    }
   ],
   "source": [
    "x_train"
   ]
  },
  {
   "cell_type": "markdown",
   "id": "b25da8f4",
   "metadata": {},
   "source": [
    "### Reading test data"
   ]
  },
  {
   "cell_type": "code",
   "execution_count": 7,
   "id": "898e2acd",
   "metadata": {},
   "outputs": [
    {
     "name": "stdout",
     "output_type": "stream",
     "text": [
      "(4950, 5)\n",
      "(4950,)\n"
     ]
    }
   ],
   "source": [
    "## fetching test data\n",
    "test_data = result[2].get(\"Test_data\")\n",
    "x_test = pk.loads(test_data[0])\n",
    "y_test = pk.loads(test_data[1])\n",
    "print(x_test.shape)\n",
    "print(y_test.shape)"
   ]
  },
  {
   "cell_type": "markdown",
   "id": "6375f278",
   "metadata": {},
   "source": [
    "## Linear Regression Model training"
   ]
  },
  {
   "cell_type": "code",
   "execution_count": 8,
   "id": "7b359417",
   "metadata": {},
   "outputs": [
    {
     "data": {
      "text/plain": [
       "LinearRegression()"
      ]
     },
     "execution_count": 8,
     "metadata": {},
     "output_type": "execute_result"
    }
   ],
   "source": [
    "## creating regression model and training it\n",
    "from sklearn.linear_model import LinearRegression\n",
    "linear_model = LinearRegression()\n",
    "linear_model.fit(x_train,y_train)"
   ]
  },
  {
   "cell_type": "code",
   "execution_count": 9,
   "id": "43135f0c",
   "metadata": {},
   "outputs": [
    {
     "name": "stdout",
     "output_type": "stream",
     "text": [
      "Coeffiecients of model:  [ 1.98029229e+01 -3.29935732e-01 -2.40234406e-01 -8.82437690e+00\n",
      " -1.08463251e-02]\n",
      "intercept of model:  8.815621890547265\n"
     ]
    }
   ],
   "source": [
    "## Coffiecient and intercept of model\n",
    "print(\"Coeffiecients of model: \",linear_model.coef_)\n",
    "print(\"intercept of model: \",linear_model.intercept_)"
   ]
  },
  {
   "cell_type": "code",
   "execution_count": 10,
   "id": "ffdbd66d",
   "metadata": {},
   "outputs": [
    {
     "data": {
      "text/plain": [
       "array([[-0.80789713,  0.14925458,  0.20596236, -0.79969338,  0.16868898],\n",
       "       [ 0.05308215,  0.79177116,  0.14082384,  0.05162289,  0.75398993],\n",
       "       [ 0.20380062, -0.20769908,  0.08178015,  0.18604125,  1.33929088],\n",
       "       ...,\n",
       "       [-0.64775876, -0.45756664,  0.09320796, -0.66527502, -0.41661198],\n",
       "       [ 0.39219871, -0.56465274,  0.06768585,  0.36526573, -1.58721388],\n",
       "       [-0.74760974,  0.0243208 ,  0.15644185, -0.75488726,  0.16868898]])"
      ]
     },
     "execution_count": 10,
     "metadata": {},
     "output_type": "execute_result"
    }
   ],
   "source": [
    "##standardization of test data\n",
    "x_test = scaler.transform(x_test)\n",
    "x_test"
   ]
  },
  {
   "cell_type": "code",
   "execution_count": 11,
   "id": "c59269d0",
   "metadata": {},
   "outputs": [
    {
     "data": {
      "text/plain": [
       "array([-0.22686034,  9.10802135, 11.24412632, ...,  1.99183722,\n",
       "       13.5463144 ,  0.62473675])"
      ]
     },
     "execution_count": 11,
     "metadata": {},
     "output_type": "execute_result"
    }
   ],
   "source": [
    "## testing of model\n",
    "linear_pred = linear_model.predict(x_test)\n",
    "linear_pred"
   ]
  },
  {
   "cell_type": "code",
   "execution_count": 12,
   "id": "de70dfc6",
   "metadata": {},
   "outputs": [
    {
     "name": "stdout",
     "output_type": "stream",
     "text": [
      "Mean absolute error:  4.163092312620457\n",
      "Mean square error:  44.73822277535633\n",
      "r2 score:  0.7167263971026698\n"
     ]
    }
   ],
   "source": [
    "## checking accuracy by MSE,MAE,RMSE,R2 and ajusted R2 error\n",
    "from sklearn.metrics import mean_absolute_error,mean_squared_error,r2_score\n",
    "print(\"Mean absolute error: \",mean_absolute_error(y_test,linear_pred))\n",
    "print(\"Mean square error: \",mean_squared_error(y_test,linear_pred))\n",
    "print(\"r2 score: \",r2_score(y_test,linear_pred))"
   ]
  },
  {
   "cell_type": "code",
   "execution_count": 13,
   "id": "8448ca53",
   "metadata": {},
   "outputs": [
    {
     "name": "stdout",
     "output_type": "stream",
     "text": [
      "Adjusted r2:  -0.28330137187255267\n"
     ]
    }
   ],
   "source": [
    "#Adjusted R2 score\n",
    "r2 = r2_score(y_test,linear_pred)\n",
    "N = x_train.shape[0] + x_test.shape[0]\n",
    "P = x_train.shape[1]\n",
    "adjusted_r2 = (1 - ((1-r2)*(N-1)))/(N-P-1)\n",
    "print(\"Adjusted r2: \", adjusted_r2)"
   ]
  },
  {
   "cell_type": "markdown",
   "id": "79731806",
   "metadata": {},
   "source": [
    "Model performance is very Bad as adjusted r2 is negative"
   ]
  },
  {
   "cell_type": "code",
   "execution_count": 14,
   "id": "8a6c5176",
   "metadata": {},
   "outputs": [
    {
     "data": {
      "text/plain": [
       "0.717830399543542"
      ]
     },
     "execution_count": 14,
     "metadata": {},
     "output_type": "execute_result"
    }
   ],
   "source": [
    "linear_model.score(x_train,y_train)"
   ]
  },
  {
   "cell_type": "markdown",
   "id": "0b7d988a",
   "metadata": {},
   "source": [
    "### Linear Regression Model score is 71%"
   ]
  }
 ],
 "metadata": {
  "kernelspec": {
   "display_name": "Python 3 (ipykernel)",
   "language": "python",
   "name": "python3"
  },
  "language_info": {
   "codemirror_mode": {
    "name": "ipython",
    "version": 3
   },
   "file_extension": ".py",
   "mimetype": "text/x-python",
   "name": "python",
   "nbconvert_exporter": "python",
   "pygments_lexer": "ipython3",
   "version": "3.9.13"
  }
 },
 "nbformat": 4,
 "nbformat_minor": 5
}
